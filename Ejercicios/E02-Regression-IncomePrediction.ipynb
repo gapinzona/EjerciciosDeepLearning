{
 "cells": [
  {
   "cell_type": "markdown",
   "metadata": {},
   "source": [
    "# Exercise 02\n",
    "\n",
    "Estimate a regression using the Income data\n",
    "\n",
    "\n",
    "## Forecast of income\n",
    "\n",
    "We'll be working with a dataset from US Census indome ([data dictionary](https://archive.ics.uci.edu/ml/datasets/Adult)).\n",
    "\n",
    "Many businesses would like to personalize their offer based on customer’s income. High-income customers could be, for instance, exposed to premium products. As a customer’s income is not always explicitly known, predictive model could estimate income of a person based on other information.\n",
    "\n",
    "Our goal is to create a predictive model that will be able to output an estimation of a person income."
   ]
  },
  {
   "cell_type": "code",
   "execution_count": 1,
   "metadata": {},
   "outputs": [
    {
     "data": {
      "text/html": [
       "<div>\n",
       "<style scoped>\n",
       "    .dataframe tbody tr th:only-of-type {\n",
       "        vertical-align: middle;\n",
       "    }\n",
       "\n",
       "    .dataframe tbody tr th {\n",
       "        vertical-align: top;\n",
       "    }\n",
       "\n",
       "    .dataframe thead th {\n",
       "        text-align: right;\n",
       "    }\n",
       "</style>\n",
       "<table border=\"1\" class=\"dataframe\">\n",
       "  <thead>\n",
       "    <tr style=\"text-align: right;\">\n",
       "      <th></th>\n",
       "      <th>Age</th>\n",
       "      <th>Workclass</th>\n",
       "      <th>fnlwgt</th>\n",
       "      <th>Education</th>\n",
       "      <th>Education-Num</th>\n",
       "      <th>Martial Status</th>\n",
       "      <th>Occupation</th>\n",
       "      <th>Relationship</th>\n",
       "      <th>Race</th>\n",
       "      <th>Sex</th>\n",
       "      <th>Capital Gain</th>\n",
       "      <th>Capital Loss</th>\n",
       "      <th>Hours per week</th>\n",
       "      <th>Country</th>\n",
       "      <th>Income</th>\n",
       "    </tr>\n",
       "  </thead>\n",
       "  <tbody>\n",
       "    <tr>\n",
       "      <th>0</th>\n",
       "      <td>39</td>\n",
       "      <td>State-gov</td>\n",
       "      <td>77516</td>\n",
       "      <td>Bachelors</td>\n",
       "      <td>13</td>\n",
       "      <td>Never-married</td>\n",
       "      <td>Adm-clerical</td>\n",
       "      <td>Not-in-family</td>\n",
       "      <td>White</td>\n",
       "      <td>Male</td>\n",
       "      <td>2174</td>\n",
       "      <td>0</td>\n",
       "      <td>40</td>\n",
       "      <td>United-States</td>\n",
       "      <td>51806.0</td>\n",
       "    </tr>\n",
       "    <tr>\n",
       "      <th>1</th>\n",
       "      <td>50</td>\n",
       "      <td>Self-emp-not-inc</td>\n",
       "      <td>83311</td>\n",
       "      <td>Bachelors</td>\n",
       "      <td>13</td>\n",
       "      <td>Married-civ-spouse</td>\n",
       "      <td>Exec-managerial</td>\n",
       "      <td>Husband</td>\n",
       "      <td>White</td>\n",
       "      <td>Male</td>\n",
       "      <td>0</td>\n",
       "      <td>0</td>\n",
       "      <td>13</td>\n",
       "      <td>United-States</td>\n",
       "      <td>68719.0</td>\n",
       "    </tr>\n",
       "    <tr>\n",
       "      <th>2</th>\n",
       "      <td>38</td>\n",
       "      <td>Private</td>\n",
       "      <td>215646</td>\n",
       "      <td>HS-grad</td>\n",
       "      <td>9</td>\n",
       "      <td>Divorced</td>\n",
       "      <td>Handlers-cleaners</td>\n",
       "      <td>Not-in-family</td>\n",
       "      <td>White</td>\n",
       "      <td>Male</td>\n",
       "      <td>0</td>\n",
       "      <td>0</td>\n",
       "      <td>40</td>\n",
       "      <td>United-States</td>\n",
       "      <td>51255.0</td>\n",
       "    </tr>\n",
       "    <tr>\n",
       "      <th>3</th>\n",
       "      <td>53</td>\n",
       "      <td>Private</td>\n",
       "      <td>234721</td>\n",
       "      <td>11th</td>\n",
       "      <td>7</td>\n",
       "      <td>Married-civ-spouse</td>\n",
       "      <td>Handlers-cleaners</td>\n",
       "      <td>Husband</td>\n",
       "      <td>Black</td>\n",
       "      <td>Male</td>\n",
       "      <td>0</td>\n",
       "      <td>0</td>\n",
       "      <td>40</td>\n",
       "      <td>United-States</td>\n",
       "      <td>47398.0</td>\n",
       "    </tr>\n",
       "    <tr>\n",
       "      <th>4</th>\n",
       "      <td>28</td>\n",
       "      <td>Private</td>\n",
       "      <td>338409</td>\n",
       "      <td>Bachelors</td>\n",
       "      <td>13</td>\n",
       "      <td>Married-civ-spouse</td>\n",
       "      <td>Prof-specialty</td>\n",
       "      <td>Wife</td>\n",
       "      <td>Black</td>\n",
       "      <td>Female</td>\n",
       "      <td>0</td>\n",
       "      <td>0</td>\n",
       "      <td>40</td>\n",
       "      <td>Cuba</td>\n",
       "      <td>30493.0</td>\n",
       "    </tr>\n",
       "  </tbody>\n",
       "</table>\n",
       "</div>"
      ],
      "text/plain": [
       "   Age         Workclass  fnlwgt  Education  Education-Num  \\\n",
       "0   39         State-gov   77516  Bachelors             13   \n",
       "1   50  Self-emp-not-inc   83311  Bachelors             13   \n",
       "2   38           Private  215646    HS-grad              9   \n",
       "3   53           Private  234721       11th              7   \n",
       "4   28           Private  338409  Bachelors             13   \n",
       "\n",
       "       Martial Status         Occupation   Relationship   Race     Sex  \\\n",
       "0       Never-married       Adm-clerical  Not-in-family  White    Male   \n",
       "1  Married-civ-spouse    Exec-managerial        Husband  White    Male   \n",
       "2            Divorced  Handlers-cleaners  Not-in-family  White    Male   \n",
       "3  Married-civ-spouse  Handlers-cleaners        Husband  Black    Male   \n",
       "4  Married-civ-spouse     Prof-specialty           Wife  Black  Female   \n",
       "\n",
       "   Capital Gain  Capital Loss  Hours per week        Country   Income  \n",
       "0          2174             0              40  United-States  51806.0  \n",
       "1             0             0              13  United-States  68719.0  \n",
       "2             0             0              40  United-States  51255.0  \n",
       "3             0             0              40  United-States  47398.0  \n",
       "4             0             0              40           Cuba  30493.0  "
      ]
     },
     "execution_count": 1,
     "metadata": {},
     "output_type": "execute_result"
    }
   ],
   "source": [
    "import pandas as pd\n",
    "import numpy as np\n",
    "\n",
    "%matplotlib inline\n",
    "import matplotlib.pyplot as plt\n",
    "\n",
    "# read the data and set the datetime as the index\n",
    "import zipfile\n",
    "with zipfile.ZipFile('../datasets/income.csv.zip', 'r') as z:\n",
    "    f = z.open('income.csv')\n",
    "    income = pd.read_csv(f, index_col=0)\n",
    "\n",
    "income.head()"
   ]
  },
  {
   "cell_type": "code",
   "execution_count": 2,
   "metadata": {},
   "outputs": [
    {
     "data": {
      "text/plain": [
       "(32561, 15)"
      ]
     },
     "execution_count": 2,
     "metadata": {},
     "output_type": "execute_result"
    }
   ],
   "source": [
    "income.shape"
   ]
  },
  {
   "cell_type": "markdown",
   "metadata": {},
   "source": [
    "# Exercise 2.1 \n",
    "\n",
    "What is the relation between the age and Income?\n",
    "\n",
    "For a one percent increase in the Age how much the income increases?\n",
    "\n",
    "Using sklearn estimate a linear regression and predict the income when the Age is 30 and 40 years"
   ]
  },
  {
   "cell_type": "code",
   "execution_count": 3,
   "metadata": {},
   "outputs": [
    {
     "data": {
      "text/plain": [
       "<matplotlib.axes._subplots.AxesSubplot at 0x2e9b7469a58>"
      ]
     },
     "execution_count": 3,
     "metadata": {},
     "output_type": "execute_result"
    },
    {
     "data": {
      "image/png": "[encoded data removed]",
      "text/plain": [
       "<Figure size 432x288 with 1 Axes>"
      ]
     },
     "metadata": {},
     "output_type": "display_data"
    }
   ],
   "source": [
    "income.plot(x='Age', y='Income', kind='scatter')"
   ]
  },
  {
   "cell_type": "code",
   "execution_count": 4,
   "metadata": {},
   "outputs": [
    {
     "name": "stdout",
     "output_type": "stream",
     "text": [
      "Los coeficientes estimados son \n",
      " \n",
      " b0= [32538.08813087] \n",
      " b1= [542.16765707]\n"
     ]
    },
    {
     "data": {
      "text/plain": [
       "[<matplotlib.lines.Line2D at 0x2e9b9e90a20>]"
      ]
     },
     "execution_count": 4,
     "metadata": {},
     "output_type": "execute_result"
    },
    {
     "data": {
      "image/png": "[encoded data removed]",
      "text/plain": [
       "<Figure size 432x288 with 1 Axes>"
      ]
     },
     "metadata": {},
     "output_type": "display_data"
    }
   ],
   "source": [
    "from  sklearn.linear_model  import LinearRegression\n",
    "import matplotlib.pyplot as plt\n",
    "lr_ing = LinearRegression()\n",
    "lr_ing.fit(income['Age'].values.reshape(-1, 1), income['Income'].values.reshape(-1, 1))\n",
    "\n",
    "print(\"Los coeficientes estimados son \\n\",\n",
    "      \"\\n b0=\",lr_ing.intercept_,\n",
    "      \"\\n b1=\",lr_ing.coef_[0])\n",
    "\n",
    "income.plot(x='Age', y='Income', kind='scatter')\n",
    "plt.plot(income['Age'], lr_ing.intercept_+lr_ing.coef_[0]*income['Age'], \n",
    "         color='red', linewidth=3)\n"
   ]
  },
  {
   "cell_type": "markdown",
   "metadata": {},
   "source": [
    "###### Relacion Ingreso - Edad\n",
    "Aunque no salta a la vista se tiene que a mayor edad mayor ingreso \n",
    "\n",
    "Por un aumento de uno en la edad en promedio aumenta 542.2 el ingreso"
   ]
  },
  {
   "cell_type": "code",
   "execution_count": 5,
   "metadata": {},
   "outputs": [
    {
     "data": {
      "text/plain": [
       "array([[48803.11784304],\n",
       "       [54224.79441376]])"
      ]
     },
     "execution_count": 5,
     "metadata": {},
     "output_type": "execute_result"
    }
   ],
   "source": [
    "new_x = np.array([30, 40])\n",
    "lr_ing.predict(new_x.reshape(-1, 1))"
   ]
  },
  {
   "cell_type": "markdown",
   "metadata": {},
   "source": [
    "###### A una edad de 30 años se espera que el ingreso sea 48.803, y a  una edad de 40 la predicción  del ingreso es 54.225"
   ]
  },
  {
   "cell_type": "markdown",
   "metadata": {},
   "source": [
    "# Exercise 2.2\n",
    "Evaluate the model using the MSE"
   ]
  },
  {
   "cell_type": "code",
   "execution_count": 6,
   "metadata": {},
   "outputs": [
    {
     "name": "stdout",
     "output_type": "stream",
     "text": [
      "MSE:   593783043.84\n",
      "RMSE:  24367.66\n"
     ]
    }
   ],
   "source": [
    "from sklearn import metrics\n",
    "ingreso_est = lr_ing.predict(income['Age'].values.reshape(-1, 1))\n",
    "MSE = metrics.mean_squared_error(income['Income'].values.reshape(-1, 1), ingreso_est)\n",
    "print('MSE:  ',round(MSE,2))\n",
    "print('RMSE: ',round(np.sqrt(MSE),2))"
   ]
  },
  {
   "cell_type": "markdown",
   "metadata": {},
   "source": [
    "\n",
    "# Exercise 2.3\n",
    "\n",
    "Run a regression model using as features the Age and Age$^2$ using the OLS equations"
   ]
  },
  {
   "cell_type": "code",
   "execution_count": 7,
   "metadata": {},
   "outputs": [
    {
     "name": "stdout",
     "output_type": "stream",
     "text": [
      "[-16225.07097408   3131.77014151    -30.54341041]\n"
     ]
    }
   ],
   "source": [
    "income['Age2']=income['Age']**2\n",
    "n_obs = income.shape[0]\n",
    "X=np.column_stack(([1]*n_obs,income[['Age','Age2']]))\n",
    "Y=income['Income']\n",
    "\n",
    "B=np.dot(np.linalg.inv(np.dot(X.T, X)),np.dot(X.T, Y))\n",
    "print(B)"
   ]
  },
  {
   "cell_type": "code",
   "execution_count": 8,
   "metadata": {},
   "outputs": [
    {
     "data": {
      "text/plain": [
       "[<matplotlib.lines.Line2D at 0x2e9ba6c5550>]"
      ]
     },
     "execution_count": 8,
     "metadata": {},
     "output_type": "execute_result"
    },
    {
     "data": {
      "image/png": "[encoded data removed]",
      "text/plain": [
       "<Figure size 432x288 with 1 Axes>"
      ]
     },
     "metadata": {},
     "output_type": "display_data"
    }
   ],
   "source": [
    "income.plot(x='Age', y='Income', kind='scatter')\n",
    "plt.plot(income['Age'], B[0]+B[1]*income['Age']+B[2]*(income['Age']**2), 'bo',\n",
    "         color='red')"
   ]
  },
  {
   "cell_type": "markdown",
   "metadata": {},
   "source": [
    "# Exercise 2.4\n",
    "\n",
    "\n",
    "Estimate a regression using more features.\n",
    "\n",
    "How is the performance compared to using only the Age?"
   ]
  },
  {
   "cell_type": "code",
   "execution_count": 9,
   "metadata": {},
   "outputs": [
    {
     "data": {
      "text/plain": [
       "Age                 int64\n",
       "Workclass          object\n",
       "fnlwgt              int64\n",
       "Education          object\n",
       "Education-Num       int64\n",
       "Martial Status     object\n",
       "Occupation         object\n",
       "Relationship       object\n",
       "Race               object\n",
       "Sex                object\n",
       "Capital Gain        int64\n",
       "Capital Loss        int64\n",
       "Hours per week      int64\n",
       "Country            object\n",
       "Income            float64\n",
       "Age2                int64\n",
       "dtype: object"
      ]
     },
     "execution_count": 9,
     "metadata": {},
     "output_type": "execute_result"
    }
   ],
   "source": [
    "income.dtypes"
   ]
  },
  {
   "cell_type": "code",
   "execution_count": 10,
   "metadata": {},
   "outputs": [
    {
     "data": {
      "text/plain": [
       "Index(['Age', 'fnlwgt', 'Education-Num', 'Capital Gain', 'Capital Loss',\n",
       "       'Hours per week', 'Age2', 'w_Local-gov', 'w_Never-worked', 'w_Private',\n",
       "       'w_Self-emp-inc', 'w_Self-emp-not-inc', 'w_State-gov', 'w_Without-pay',\n",
       "       'E_11th', 'E_12th', 'E_1st-4th', 'E_5th-6th', 'E_7th-8th', 'E_9th',\n",
       "       'E_Assoc-acdm', 'E_Assoc-voc', 'E_Bachelors', 'E_Doctorate',\n",
       "       'E_HS-grad', 'E_Masters', 'E_Preschool', 'E_Prof-school',\n",
       "       'E_Some-college', 'M_Married-AF-spouse', 'M_Married-civ-spouse',\n",
       "       'M_Married-spouse-absent', 'M_Never-married', 'M_Separated',\n",
       "       'M_Widowed', 'O_Armed-Forces', 'O_Craft-repair', 'O_Exec-managerial',\n",
       "       'O_Farming-fishing', 'O_Handlers-cleaners', 'O_Machine-op-inspct',\n",
       "       'O_Other-service', 'O_Priv-house-serv', 'O_Prof-specialty',\n",
       "       'O_Protective-serv', 'O_Sales', 'O_Tech-support', 'O_Transport-moving',\n",
       "       'R_Not-in-family', 'R_Other-relative', 'R_Own-child', 'R_Unmarried',\n",
       "       'R_Wife', 'RA_Asian-Pac-Islander', 'RA_Black', 'RA_Other', 'RA_White',\n",
       "       'S_Male', 'C_Canada', 'C_China', 'C_Columbia', 'C_Cuba',\n",
       "       'C_Dominican-Republic', 'C_Ecuador', 'C_El-Salvador', 'C_England',\n",
       "       'C_France', 'C_Germany', 'C_Greece', 'C_Guatemala', 'C_Haiti',\n",
       "       'C_Holand-Netherlands', 'C_Honduras', 'C_Hong', 'C_Hungary', 'C_India',\n",
       "       'C_Iran', 'C_Ireland', 'C_Italy', 'C_Jamaica', 'C_Japan', 'C_Laos',\n",
       "       'C_Mexico', 'C_Nicaragua', 'C_Outlying-US(Guam-USVI-etc)', 'C_Peru',\n",
       "       'C_Philippines', 'C_Poland', 'C_Portugal', 'C_Puerto-Rico',\n",
       "       'C_Scotland', 'C_South', 'C_Taiwan', 'C_Thailand', 'C_Trinadad&Tobago',\n",
       "       'C_United-States', 'C_Vietnam', 'C_Yugoslavia'],\n",
       "      dtype='object')"
      ]
     },
     "execution_count": 10,
     "metadata": {},
     "output_type": "execute_result"
    }
   ],
   "source": [
    "#Variables a categoricas\n",
    "income[\"Workclass\"] = income[\"Workclass\"].astype(\"category\")\n",
    "income[\"Education\"] = income[\"Education\"].astype(\"category\")\n",
    "income[\"Martial Status\"] = income[\"Martial Status\"].astype(\"category\")\n",
    "income[\"Occupation\"] = income[\"Occupation\"].astype(\"category\")\n",
    "income[\"Relationship\"] = income[\"Relationship\"].astype(\"category\")\n",
    "income[\"Race\"] = income[\"Race\"].astype(\"category\")\n",
    "income[\"Sex\"] = income[\"Sex\"].astype(\"category\")\n",
    "income[\"Country\"] = income[\"Country\"].astype(\"category\")\n",
    "\n",
    "#Construccion de variables dummies\n",
    "Workclass_df=pd.get_dummies(income['Workclass'],prefix='w',drop_first=True)\n",
    "Education_df=pd.get_dummies(income['Education'],prefix='E',drop_first=True)\n",
    "Martial_Status_df=pd.get_dummies(income['Martial Status'],prefix='M',drop_first=True)\n",
    "Occupation_df=pd.get_dummies(income['Occupation'],prefix='O',drop_first=True)\n",
    "Relationship_df=pd.get_dummies(income['Relationship'],prefix='R',drop_first=True)\n",
    "Race_df=pd.get_dummies(income['Race'],prefix='RA',drop_first=True)\n",
    "Sex_df=pd.get_dummies(income['Sex'],prefix='S',drop_first=True)\n",
    "Country_df=pd.get_dummies(income['Country'],prefix='C',drop_first=True)\n",
    "\n",
    "income=income.join(Workclass_df)\n",
    "income=income.join(Education_df)\n",
    "income=income.join(Martial_Status_df)\n",
    "income=income.join(Occupation_df)\n",
    "income=income.join(Relationship_df)\n",
    "income=income.join(Race_df)\n",
    "income=income.join(Sex_df)\n",
    "income=income.join(Country_df)\n",
    "\n",
    "#Variables de la regresion\n",
    "X_num = income.loc[:, income.dtypes != 'category' ]\n",
    "X_reg = X_num.loc[:, X_num.columns != 'Income']\n",
    "X_reg.head()\n",
    "X_reg.columns"
   ]
  },
  {
   "cell_type": "code",
   "execution_count": 11,
   "metadata": {},
   "outputs": [
    {
     "data": {
      "text/plain": [
       "LinearRegression(copy_X=True, fit_intercept=True, n_jobs=1, normalize=False)"
      ]
     },
     "execution_count": 11,
     "metadata": {},
     "output_type": "execute_result"
    }
   ],
   "source": [
    "lr_all = LinearRegression()\n",
    "lr_all.fit(X_reg, income['Income'].values.reshape(-1, 1))"
   ]
  },
  {
   "cell_type": "code",
   "execution_count": 12,
   "metadata": {},
   "outputs": [
    {
     "name": "stdout",
     "output_type": "stream",
     "text": [
      "MSE:   287648796.93\n",
      "RMSE:  16960.21\n"
     ]
    }
   ],
   "source": [
    "ingreso_est2 = lr_all.predict(X_reg)\n",
    "MSE2 = metrics.mean_squared_error(income['Income'].values.reshape(-1, 1), ingreso_est2)\n",
    "print('MSE:  ',round(MSE2,2))\n",
    "print('RMSE: ',round(np.sqrt(MSE2),2))"
   ]
  },
  {
   "cell_type": "code",
   "execution_count": 13,
   "metadata": {},
   "outputs": [
    {
     "name": "stdout",
     "output_type": "stream",
     "text": [
      "RMSE con solo edad: 24367.66\n",
      "RMSE muchas más variables: 16960.21\n"
     ]
    }
   ],
   "source": [
    "print(\"RMSE con solo edad:\",round(np.sqrt(MSE),2))\n",
    "print(\"RMSE muchas más variables:\",round(np.sqrt(MSE2),2))"
   ]
  },
  {
   "cell_type": "markdown",
   "metadata": {},
   "source": [
    "###### El desempeño es mucho mejor usando mas variables"
   ]
  },
  {
   "cell_type": "markdown",
   "metadata": {},
   "source": [
    "# Exercise 2.5\n",
    "\n",
    "\n",
    "Estimate a logistic regression to predict if a person is in the United States.\n",
    "\n",
    "What is the performance of the model"
   ]
  },
  {
   "cell_type": "code",
   "execution_count": 14,
   "metadata": {},
   "outputs": [
    {
     "data": {
      "text/plain": [
       "1.0    29170\n",
       "0.0     3391\n",
       "Name: isUS, dtype: int64"
      ]
     },
     "execution_count": 14,
     "metadata": {},
     "output_type": "execute_result"
    }
   ],
   "source": [
    "income['isUS'] = (income['Country'] == 'United-States')*1.0\n",
    "income['isUS'].value_counts()"
   ]
  },
  {
   "cell_type": "code",
   "execution_count": 15,
   "metadata": {},
   "outputs": [
    {
     "data": {
      "text/plain": [
       "Index(['Age', 'fnlwgt', 'Education-Num', 'Capital Gain', 'Capital Loss',\n",
       "       'Hours per week', 'Income', 'Age2', 'w_Local-gov', 'w_Never-worked',\n",
       "       'w_Private', 'w_Self-emp-inc', 'w_Self-emp-not-inc', 'w_State-gov',\n",
       "       'w_Without-pay', 'E_11th', 'E_12th', 'E_1st-4th', 'E_5th-6th',\n",
       "       'E_7th-8th', 'E_9th', 'E_Assoc-acdm', 'E_Assoc-voc', 'E_Bachelors',\n",
       "       'E_Doctorate', 'E_HS-grad', 'E_Masters', 'E_Preschool', 'E_Prof-school',\n",
       "       'E_Some-college', 'M_Married-AF-spouse', 'M_Married-civ-spouse',\n",
       "       'M_Married-spouse-absent', 'M_Never-married', 'M_Separated',\n",
       "       'M_Widowed', 'O_Armed-Forces', 'O_Craft-repair', 'O_Exec-managerial',\n",
       "       'O_Farming-fishing', 'O_Handlers-cleaners', 'O_Machine-op-inspct',\n",
       "       'O_Other-service', 'O_Priv-house-serv', 'O_Prof-specialty',\n",
       "       'O_Protective-serv', 'O_Sales', 'O_Tech-support', 'O_Transport-moving',\n",
       "       'R_Not-in-family', 'R_Other-relative', 'R_Own-child', 'R_Unmarried',\n",
       "       'R_Wife', 'RA_Asian-Pac-Islander', 'RA_Black', 'RA_Other', 'RA_White',\n",
       "       'S_Male'],\n",
       "      dtype='object')"
      ]
     },
     "execution_count": 15,
     "metadata": {},
     "output_type": "execute_result"
    }
   ],
   "source": [
    "#No se tienen en cuenta las varibales relacionadas con el pais\n",
    "income_sin_pais = income.loc[:, income.columns.str[:2]  != 'C_' ]\n",
    "X_num = income_sin_pais.loc[:, income_sin_pais.dtypes != 'category' ]\n",
    "X_log = X_num.loc[:, X_num.columns != 'isUS']\n",
    "X_log.head()\n",
    "X_log.columns"
   ]
  },
  {
   "cell_type": "code",
   "execution_count": 16,
   "metadata": {},
   "outputs": [
    {
     "data": {
      "text/plain": [
       "LogisticRegression(C=1.0, class_weight=None, dual=False, fit_intercept=True,\n",
       "          intercept_scaling=1, max_iter=100, multi_class='ovr', n_jobs=1,\n",
       "          penalty='l2', random_state=None, solver='liblinear', tol=0.0001,\n",
       "          verbose=0, warm_start=False)"
      ]
     },
     "execution_count": 16,
     "metadata": {},
     "output_type": "execute_result"
    }
   ],
   "source": [
    "from sklearn.linear_model import LogisticRegression\n",
    "\n",
    "logistic = LogisticRegression()\n",
    "reg_log = logistic.fit(X_log, income['isUS'])\n",
    "reg_log"
   ]
  },
  {
   "cell_type": "code",
   "execution_count": 17,
   "metadata": {},
   "outputs": [
    {
     "name": "stdout",
     "output_type": "stream",
     "text": [
      "Accuracity:  0.89586\n"
     ]
    }
   ],
   "source": [
    "y_pred_log = reg_log.predict(X_log)\n",
    "acc = float((y_pred_log == income['isUS']).mean())\n",
    "print('Accuracity: ', round(acc,5))"
   ]
  }
 ],
 "metadata": {
  "kernelspec": {
   "display_name": "Python 3",
   "language": "python",
   "name": "python3"
  },
  "language_info": {
   "codemirror_mode": {
    "name": "ipython",
    "version": 3
   },
   "file_extension": ".py",
   "mimetype": "text/x-python",
   "name": "python",
   "nbconvert_exporter": "python",
   "pygments_lexer": "ipython3",
   "version": "3.6.5"
  }
 },
 "nbformat": 4,
 "nbformat_minor": 2
}
